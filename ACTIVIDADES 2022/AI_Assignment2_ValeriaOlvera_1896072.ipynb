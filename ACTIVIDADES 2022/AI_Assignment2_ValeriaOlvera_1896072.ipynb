{
  "nbformat": 4,
  "nbformat_minor": 0,
  "metadata": {
    "colab": {
      "provenance": [],
      "collapsed_sections": []
    },
    "kernelspec": {
      "name": "python3",
      "display_name": "Python 3"
    },
    "language_info": {
      "name": "python"
    }
  },
  "cells": [
    {
      "cell_type": "markdown",
      "source": [
        "# Exercise 1"
      ],
      "metadata": {
        "id": "tNkKdSK7vgRk"
      }
    },
    {
      "cell_type": "code",
      "source": [
        "'''\n",
        "Name: Valeria Olvera Casillas\n",
        "ID number: 1896082\n",
        "A2: Python Exercises\n",
        "Artificial Intelligence MaN4\n",
        "'''\n",
        "\n",
        "name=input('Whats your name? ')\n",
        "\n",
        "if name in('Ana','John','Peter'):\n",
        "\n",
        "  print('Sorry, these name its not registered :(')\n",
        "\n",
        "else:\n",
        "  print('Hi ' +name +', nice to meet ya! :D')\n",
        "\n"
      ],
      "metadata": {
        "id": "J_CMAaNbsYfF",
        "colab": {
          "base_uri": "https://localhost:8080/"
        },
        "outputId": "282083d2-68dd-4a61-e6c9-d6ea859f4435"
      },
      "execution_count": null,
      "outputs": [
        {
          "output_type": "stream",
          "name": "stdout",
          "text": [
            "Whats your name? Eduardo\n",
            "Hi Eduardo, nice to meet ya! :D\n"
          ]
        }
      ]
    },
    {
      "cell_type": "markdown",
      "source": [
        "#Exercise 2"
      ],
      "metadata": {
        "id": "ITqiWegHvnlO"
      }
    },
    {
      "cell_type": "code",
      "source": [
        "colors = ['green','purple','brown']\n",
        "def invert_colors(colors):\n",
        "  if colors == [] :\n",
        "    inverse = colors\n",
        "  else:\n",
        "    inverse = [colors[-1]] + invert_colors(colors[:-1])\n",
        "  return inverse\n",
        "\n",
        "print(invert_colors(colors))"
      ],
      "metadata": {
        "colab": {
          "base_uri": "https://localhost:8080/"
        },
        "id": "UmccnauqvyFa",
        "outputId": "8b102d7d-e538-441f-debd-8c871b2ba4f3"
      },
      "execution_count": 27,
      "outputs": [
        {
          "output_type": "stream",
          "name": "stdout",
          "text": [
            "['brown', 'purple', 'green']\n"
          ]
        }
      ]
    },
    {
      "cell_type": "markdown",
      "source": [
        "#Exercise 3"
      ],
      "metadata": {
        "id": "bXRhruev2pb6"
      }
    },
    {
      "cell_type": "code",
      "source": [
        "def print_in_a_frame(*words):\n",
        "  size = max(len(word) for word in words)\n",
        "  print('*' * (size+3))\n",
        "  for word in words:\n",
        "    print('* {:<{}} *'.format(word, size))\n",
        "  print('*' *(size+2))\n",
        "print_in_a_frame('Hi, guys! This is Valeria','and this is my AIs hw :D')"
      ],
      "metadata": {
        "id": "n3CCmYrO2x0J",
        "colab": {
          "base_uri": "https://localhost:8080/"
        },
        "outputId": "6baa66bf-c084-42b7-bdf5-ac20b382ee7f"
      },
      "execution_count": 24,
      "outputs": [
        {
          "output_type": "stream",
          "name": "stdout",
          "text": [
            "****************************\n",
            "* Hi, guys! This is Valeria *\n",
            "* and this is my AIs hw :D  *\n",
            "***************************\n"
          ]
        }
      ]
    }
  ]
}